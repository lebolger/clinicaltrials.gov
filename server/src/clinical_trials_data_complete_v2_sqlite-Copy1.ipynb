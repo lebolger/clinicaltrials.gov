{
 "cells": [
  {
   "cell_type": "code",
   "execution_count": 1,
   "id": "892ae2a3-6a91-4e7c-ad48-2d89eea086c0",
   "metadata": {},
   "outputs": [
    {
     "name": "stderr",
     "output_type": "stream",
     "text": [
      "C:\\Users\\lebol\\AppData\\Local\\Temp\\ipykernel_44292\\2855468465.py:46: FutureWarning: DataFrame.applymap has been deprecated. Use DataFrame.map instead.\n",
      "  df = df.applymap(str)\n"
     ]
    }
   ],
   "source": [
    "import requests\n",
    "import pandas as pd\n",
    "from sqlalchemy import create_engine\n",
    "engine = create_engine('sqlite:///my_database_test1.db')\n",
    "\n",
    "# Initial URL for the API call\n",
    "base_url = \"https://clinicaltrials.gov/api/v2/studies\"\n",
    "\n",
    "# Parameters for the API request\n",
    "params = {\n",
    "    'filter.overallStatus': 'NOT_YET_RECRUITING,RECRUITING',\n",
    "    'filter.advanced': 'AREA[StartDate]RANGE[01/01/2024,MAX]',\n",
    "    'pageSize': 1000,\n",
    "    'format': 'json',\n",
    "}\n",
    "\n",
    "# Initialize an empty list to store the data\n",
    "data_list = []\n",
    "\n",
    "# Loop until there is no nextPageToken\n",
    "while True:\n",
    "    # Send a GET request to the API\n",
    "    response = requests.get(base_url, params=params)\n",
    "\n",
    "    # Check if the request was successful\n",
    "    if response.status_code == 200:\n",
    "        data = response.json()  # Parse JSON response\n",
    "        studies = data.get('studies', [])  # Extract the list of studies\n",
    "\n",
    "        # Append the studies to the data list\n",
    "        data_list.extend(studies)\n",
    "\n",
    "        # Check for nextPageToken and update the params or break the loop\n",
    "        nextPageToken = data.get('nextPageToken')\n",
    "        if nextPageToken:\n",
    "            params['pageToken'] = nextPageToken  # Set the pageToken for the next request\n",
    "        else:\n",
    "            break  # Exit the loop if no nextPageToken is present\n",
    "    else:\n",
    "        print(\"Failed to fetch data. Status code:\", response.status_code)\n",
    "        break\n",
    "\n",
    "# Create a DataFrame from the list of studies\n",
    "df = pd.json_normalize(data_list)\n",
    "\n",
    "df = df.applymap(str)"
   ]
  },
  {
   "cell_type": "code",
   "execution_count": 2,
   "id": "1e103a39-d3dc-44c1-a944-0685a55d046a",
   "metadata": {
    "scrolled": true
   },
   "outputs": [
    {
     "data": {
      "text/plain": [
       "41056"
      ]
     },
     "execution_count": 2,
     "metadata": {},
     "output_type": "execute_result"
    }
   ],
   "source": [
    "# Optionally, save the DataFrame to a CSV file\n",
    "#df.to_csv(\"clinical_trials_data_complete_v2.csv\", index=False)\n",
    "\n",
    "# Save the DataFrame to an SQLite database\n",
    "df.to_sql(name='clinical_trials', con=engine,index=False, if_exists=\"replace\")"
   ]
  },
  {
   "cell_type": "code",
   "execution_count": 3,
   "id": "395f3e2c-ee02-4643-a371-9b894fbaa6ea",
   "metadata": {},
   "outputs": [
    {
     "name": "stdout",
     "output_type": "stream",
     "text": [
      "      protocolSection.identificationModule.nctId\n",
      "0                                    NCT06410820\n",
      "1                                    NCT04601974\n",
      "2                                    NCT06623474\n",
      "3                                    NCT06256874\n",
      "4                                    NCT06585774\n",
      "...                                          ...\n",
      "41051                                NCT06427954\n",
      "41052                                NCT06581354\n",
      "41053                                NCT06570954\n",
      "41054                                NCT06494254\n",
      "41055                                NCT06375954\n",
      "\n",
      "[41056 rows x 1 columns]\n"
     ]
    }
   ],
   "source": [
    "with engine.connect() as conn:\n",
    "  print(pd.read_sql('SELECT \"protocolSection.identificationModule.nctId\", from clinical_trials', conn))"
   ]
  },
  {
   "cell_type": "code",
   "execution_count": null,
   "id": "ceee4ced-7814-4926-ac5f-477fb6d17291",
   "metadata": {},
   "outputs": [],
   "source": []
  }
 ],
 "metadata": {
  "kernelspec": {
   "display_name": "Python 3 (ipykernel)",
   "language": "python",
   "name": "python3"
  },
  "language_info": {
   "codemirror_mode": {
    "name": "ipython",
    "version": 3
   },
   "file_extension": ".py",
   "mimetype": "text/x-python",
   "name": "python",
   "nbconvert_exporter": "python",
   "pygments_lexer": "ipython3",
   "version": "3.13.1"
  }
 },
 "nbformat": 4,
 "nbformat_minor": 5
}
