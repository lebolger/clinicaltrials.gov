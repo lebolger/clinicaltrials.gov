{
 "cells": [
  {
   "cell_type": "code",
   "execution_count": 2,
   "id": "76e54971-d4f4-42dc-b739-6e85f898704c",
   "metadata": {},
   "outputs": [
    {
     "name": "stderr",
     "output_type": "stream",
     "text": [
      "INFO:root:All data saved to SQLite.\n"
     ]
    }
   ],
   "source": [
    "import requests\n",
    "import pandas as pd\n",
    "import logging\n",
    "from sqlalchemy import create_engine\n",
    "\n",
    "# Set up logging\n",
    "logging.basicConfig(level=logging.INFO)\n",
    "\n",
    "# Create SQLite engine\n",
    "engine = create_engine('sqlite:///ctgov.db')\n",
    "\n",
    "# API setup\n",
    "base_url = \"https://clinicaltrials.gov/api/v2/studies\"\n",
    "params = {\n",
    "    'filter.advanced': 'AREA[StartDate]RANGE[01/01/2024,MAX]',\n",
    "    'pageSize': 100,\n",
    "    'format': 'json',\n",
    "}\n",
    "\n",
    "# Initialize flag to control table creation\n",
    "first_page = True\n",
    "\n",
    "while True:\n",
    "    response = requests.get(base_url, params=params)\n",
    "\n",
    "    if response.status_code == 200:\n",
    "        data = response.json()\n",
    "        studies = data.get('studies', [])\n",
    "        if not studies:\n",
    "            break\n",
    "\n",
    "        df = pd.json_normalize(studies)\n",
    "        df = df.astype(str)\n",
    "\n",
    "        # Optional: convert and select specific columns\n",
    "        if 'protocolSection.statusModule.startDateStruct.date' in df.columns:\n",
    "            df['startDate'] = pd.to_datetime(df['protocolSection.statusModule.startDateStruct.date'], errors='coerce')\n",
    "\n",
    "        columns_to_keep = [\n",
    "            'protocolSection.identificationModule.nctId',\n",
    "            'protocolSection.statusModule.overallStatus',\n",
    "            'protocolSection.statusModule.startDateStruct.date',\n",
    "            'startDate',\n",
    "        ]\n",
    "        df = df[[col for col in columns_to_keep if col in df.columns]]\n",
    "\n",
    "        # Append to SQLite DB\n",
    "        df.to_sql('clinical_trials', engine, if_exists='replace' if first_page else 'append', index=False)\n",
    "        first_page = False\n",
    "\n",
    "        # Check for pagination\n",
    "        nextPageToken = data.get('nextPageToken')\n",
    "        if nextPageToken:\n",
    "            params['pageToken'] = nextPageToken\n",
    "        else:\n",
    "            break\n",
    "    else:\n",
    "        logging.error(f\"Failed to fetch data. Status code: {response.status_code}\")\n",
    "        break\n",
    "\n",
    "logging.info(\"All data saved to SQLite.\")\n"
   ]
  },
  {
   "cell_type": "code",
   "execution_count": null,
   "id": "747fcbb5-3233-4049-9876-de137fcdda61",
   "metadata": {},
   "outputs": [],
   "source": []
  }
 ],
 "metadata": {
  "kernelspec": {
   "display_name": "Python 3 (ipykernel)",
   "language": "python",
   "name": "python3"
  },
  "language_info": {
   "codemirror_mode": {
    "name": "ipython",
    "version": 3
   },
   "file_extension": ".py",
   "mimetype": "text/x-python",
   "name": "python",
   "nbconvert_exporter": "python",
   "pygments_lexer": "ipython3",
   "version": "3.13.1"
  }
 },
 "nbformat": 4,
 "nbformat_minor": 5
}
